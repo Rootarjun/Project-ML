{
 "cells": [
  {
   "cell_type": "code",
   "execution_count": 1,
   "id": "bad4222a-b1ba-45de-84d5-bfcc2efa1efd",
   "metadata": {},
   "outputs": [],
   "source": [
    "import numpy as np\n",
    "import pandas as pd\n",
    "import matplotlib.pyplot as plt\n",
    "import seaborn as sns\n",
    "import random\n",
    "import warnings\n",
    "warnings.filterwarnings(\"ignore\")"
   ]
  },
  {
   "cell_type": "code",
   "execution_count": 2,
   "id": "939f7864-1aeb-4829-9a8b-a449097bfe79",
   "metadata": {},
   "outputs": [],
   "source": [
    "data=pd.read_csv(r\"../Data/aadru.us.csv\",parse_dates=[\"Date\"])"
   ]
  },
  {
   "cell_type": "code",
   "execution_count": 3,
   "id": "45cb547d-10a9-4d5d-adcd-a7dd956f5527",
   "metadata": {},
   "outputs": [
    {
     "data": {
      "text/html": [
       "<div>\n",
       "<style scoped>\n",
       "    .dataframe tbody tr th:only-of-type {\n",
       "        vertical-align: middle;\n",
       "    }\n",
       "\n",
       "    .dataframe tbody tr th {\n",
       "        vertical-align: top;\n",
       "    }\n",
       "\n",
       "    .dataframe thead th {\n",
       "        text-align: right;\n",
       "    }\n",
       "</style>\n",
       "<table border=\"1\" class=\"dataframe\">\n",
       "  <thead>\n",
       "    <tr style=\"text-align: right;\">\n",
       "      <th></th>\n",
       "      <th>Date</th>\n",
       "      <th>Open</th>\n",
       "      <th>High</th>\n",
       "      <th>Low</th>\n",
       "      <th>Close</th>\n",
       "      <th>Volume</th>\n",
       "      <th>OpenInt</th>\n",
       "    </tr>\n",
       "  </thead>\n",
       "  <tbody>\n",
       "    <tr>\n",
       "      <th>0</th>\n",
       "      <td>2005-02-25</td>\n",
       "      <td>16.951</td>\n",
       "      <td>17.067</td>\n",
       "      <td>16.951</td>\n",
       "      <td>17.067</td>\n",
       "      <td>7003</td>\n",
       "      <td>0</td>\n",
       "    </tr>\n",
       "    <tr>\n",
       "      <th>1</th>\n",
       "      <td>2005-02-28</td>\n",
       "      <td>17.027</td>\n",
       "      <td>17.027</td>\n",
       "      <td>16.951</td>\n",
       "      <td>16.974</td>\n",
       "      <td>9145</td>\n",
       "      <td>0</td>\n",
       "    </tr>\n",
       "    <tr>\n",
       "      <th>2</th>\n",
       "      <td>2005-03-01</td>\n",
       "      <td>17.036</td>\n",
       "      <td>17.044</td>\n",
       "      <td>17.013</td>\n",
       "      <td>17.044</td>\n",
       "      <td>16347</td>\n",
       "      <td>0</td>\n",
       "    </tr>\n",
       "    <tr>\n",
       "      <th>3</th>\n",
       "      <td>2005-03-02</td>\n",
       "      <td>16.867</td>\n",
       "      <td>16.982</td>\n",
       "      <td>16.859</td>\n",
       "      <td>16.951</td>\n",
       "      <td>72413</td>\n",
       "      <td>0</td>\n",
       "    </tr>\n",
       "    <tr>\n",
       "      <th>4</th>\n",
       "      <td>2005-03-03</td>\n",
       "      <td>17.027</td>\n",
       "      <td>17.027</td>\n",
       "      <td>17.027</td>\n",
       "      <td>17.027</td>\n",
       "      <td>389</td>\n",
       "      <td>0</td>\n",
       "    </tr>\n",
       "  </tbody>\n",
       "</table>\n",
       "</div>"
      ],
      "text/plain": [
       "        Date    Open    High     Low   Close  Volume  OpenInt\n",
       "0 2005-02-25  16.951  17.067  16.951  17.067    7003        0\n",
       "1 2005-02-28  17.027  17.027  16.951  16.974    9145        0\n",
       "2 2005-03-01  17.036  17.044  17.013  17.044   16347        0\n",
       "3 2005-03-02  16.867  16.982  16.859  16.951   72413        0\n",
       "4 2005-03-03  17.027  17.027  17.027  17.027     389        0"
      ]
     },
     "execution_count": 3,
     "metadata": {},
     "output_type": "execute_result"
    }
   ],
   "source": [
    "data.head()"
   ]
  },
  {
   "cell_type": "code",
   "execution_count": 4,
   "id": "5886794c-67aa-4dbb-8213-d7fde5f2ad42",
   "metadata": {},
   "outputs": [
    {
     "data": {
      "text/plain": [
       "3019"
      ]
     },
     "execution_count": 4,
     "metadata": {},
     "output_type": "execute_result"
    }
   ],
   "source": [
    "len(data)"
   ]
  },
  {
   "cell_type": "markdown",
   "id": "a8cc1189-5628-4f3b-92e6-7c4055480ac9",
   "metadata": {},
   "source": [
    "### Stock Price Dataset - Column Description\n",
    "\n",
    "- **Date** — Time index\n",
    "- **Open** — Opening price\n",
    "- **High** — Highest price that day\n",
    "- **Low** — Lowest price that day\n",
    "- **Close** — Closing price (often used as the main prediction target)\n",
    "- **Volume** — Number of shares traded\n",
    "- **OpenInt** — Open interest\n"
   ]
  },
  {
   "cell_type": "code",
   "execution_count": 5,
   "id": "94d330f4-86ed-4d3a-b66e-dfead6ecb2cb",
   "metadata": {},
   "outputs": [
    {
     "data": {
      "text/plain": [
       "Index(['Date', 'Open', 'High', 'Low', 'Close', 'Volume', 'OpenInt'], dtype='object')"
      ]
     },
     "execution_count": 5,
     "metadata": {},
     "output_type": "execute_result"
    }
   ],
   "source": [
    "data.columns"
   ]
  },
  {
   "cell_type": "code",
   "execution_count": 6,
   "id": "79d0dbfd-017e-433a-874c-792414f503c2",
   "metadata": {},
   "outputs": [
    {
     "data": {
      "text/plain": [
       "Date       0\n",
       "Open       0\n",
       "High       0\n",
       "Low        0\n",
       "Close      0\n",
       "Volume     0\n",
       "OpenInt    0\n",
       "dtype: int64"
      ]
     },
     "execution_count": 6,
     "metadata": {},
     "output_type": "execute_result"
    }
   ],
   "source": [
    "data.isnull().sum()"
   ]
  },
  {
   "cell_type": "code",
   "execution_count": 7,
   "id": "b96be457-db6d-4037-9165-5108ffdf6194",
   "metadata": {},
   "outputs": [
    {
     "data": {
      "text/plain": [
       "0"
      ]
     },
     "execution_count": 7,
     "metadata": {},
     "output_type": "execute_result"
    }
   ],
   "source": [
    "data.duplicated().sum()"
   ]
  },
  {
   "cell_type": "code",
   "execution_count": 8,
   "id": "708deb19-130e-46de-8be5-6d35496d79fb",
   "metadata": {},
   "outputs": [
    {
     "data": {
      "text/plain": [
       "Date       datetime64[ns]\n",
       "Open              float64\n",
       "High              float64\n",
       "Low               float64\n",
       "Close             float64\n",
       "Volume              int64\n",
       "OpenInt             int64\n",
       "dtype: object"
      ]
     },
     "execution_count": 8,
     "metadata": {},
     "output_type": "execute_result"
    }
   ],
   "source": [
    "data.dtypes"
   ]
  },
  {
   "cell_type": "code",
   "execution_count": 9,
   "id": "72130f74-74a7-4cfe-9adb-ea7b4ae19bff",
   "metadata": {},
   "outputs": [
    {
     "name": "stdout",
     "output_type": "stream",
     "text": [
      "<class 'pandas.core.frame.DataFrame'>\n",
      "RangeIndex: 3019 entries, 0 to 3018\n",
      "Data columns (total 7 columns):\n",
      " #   Column   Non-Null Count  Dtype         \n",
      "---  ------   --------------  -----         \n",
      " 0   Date     3019 non-null   datetime64[ns]\n",
      " 1   Open     3019 non-null   float64       \n",
      " 2   High     3019 non-null   float64       \n",
      " 3   Low      3019 non-null   float64       \n",
      " 4   Close    3019 non-null   float64       \n",
      " 5   Volume   3019 non-null   int64         \n",
      " 6   OpenInt  3019 non-null   int64         \n",
      "dtypes: datetime64[ns](1), float64(4), int64(2)\n",
      "memory usage: 165.2 KB\n"
     ]
    }
   ],
   "source": [
    "data.info()"
   ]
  },
  {
   "cell_type": "code",
   "execution_count": 10,
   "id": "60bde736-9623-4675-8171-d62646391e56",
   "metadata": {},
   "outputs": [
    {
     "data": {
      "text/html": [
       "<div>\n",
       "<style scoped>\n",
       "    .dataframe tbody tr th:only-of-type {\n",
       "        vertical-align: middle;\n",
       "    }\n",
       "\n",
       "    .dataframe tbody tr th {\n",
       "        vertical-align: top;\n",
       "    }\n",
       "\n",
       "    .dataframe thead th {\n",
       "        text-align: right;\n",
       "    }\n",
       "</style>\n",
       "<table border=\"1\" class=\"dataframe\">\n",
       "  <thead>\n",
       "    <tr style=\"text-align: right;\">\n",
       "      <th></th>\n",
       "      <th>Date</th>\n",
       "      <th>Open</th>\n",
       "      <th>High</th>\n",
       "      <th>Low</th>\n",
       "      <th>Close</th>\n",
       "      <th>Volume</th>\n",
       "      <th>OpenInt</th>\n",
       "    </tr>\n",
       "  </thead>\n",
       "  <tbody>\n",
       "    <tr>\n",
       "      <th>count</th>\n",
       "      <td>3019</td>\n",
       "      <td>3019.000000</td>\n",
       "      <td>3019.000000</td>\n",
       "      <td>3019.000000</td>\n",
       "      <td>3019.000000</td>\n",
       "      <td>3019.000000</td>\n",
       "      <td>3019.0</td>\n",
       "    </tr>\n",
       "    <tr>\n",
       "      <th>mean</th>\n",
       "      <td>2011-05-22 04:46:11.248757760</td>\n",
       "      <td>18.476098</td>\n",
       "      <td>18.557208</td>\n",
       "      <td>18.380602</td>\n",
       "      <td>18.473807</td>\n",
       "      <td>9176.942696</td>\n",
       "      <td>0.0</td>\n",
       "    </tr>\n",
       "    <tr>\n",
       "      <th>min</th>\n",
       "      <td>2005-02-25 00:00:00</td>\n",
       "      <td>9.088600</td>\n",
       "      <td>9.328900</td>\n",
       "      <td>9.088600</td>\n",
       "      <td>9.165800</td>\n",
       "      <td>0.000000</td>\n",
       "      <td>0.0</td>\n",
       "    </tr>\n",
       "    <tr>\n",
       "      <th>25%</th>\n",
       "      <td>2008-03-31 12:00:00</td>\n",
       "      <td>16.273000</td>\n",
       "      <td>16.339500</td>\n",
       "      <td>16.221000</td>\n",
       "      <td>16.269000</td>\n",
       "      <td>1432.000000</td>\n",
       "      <td>0.0</td>\n",
       "    </tr>\n",
       "    <tr>\n",
       "      <th>50%</th>\n",
       "      <td>2011-04-05 00:00:00</td>\n",
       "      <td>18.493000</td>\n",
       "      <td>18.538000</td>\n",
       "      <td>18.388000</td>\n",
       "      <td>18.457000</td>\n",
       "      <td>3623.000000</td>\n",
       "      <td>0.0</td>\n",
       "    </tr>\n",
       "    <tr>\n",
       "      <th>75%</th>\n",
       "      <td>2014-07-19 12:00:00</td>\n",
       "      <td>21.070000</td>\n",
       "      <td>21.152000</td>\n",
       "      <td>20.976000</td>\n",
       "      <td>21.073000</td>\n",
       "      <td>9110.500000</td>\n",
       "      <td>0.0</td>\n",
       "    </tr>\n",
       "    <tr>\n",
       "      <th>max</th>\n",
       "      <td>2017-11-10 00:00:00</td>\n",
       "      <td>25.862000</td>\n",
       "      <td>26.258000</td>\n",
       "      <td>25.540000</td>\n",
       "      <td>26.258000</td>\n",
       "      <td>631112.000000</td>\n",
       "      <td>0.0</td>\n",
       "    </tr>\n",
       "    <tr>\n",
       "      <th>std</th>\n",
       "      <td>NaN</td>\n",
       "      <td>3.158648</td>\n",
       "      <td>3.154493</td>\n",
       "      <td>3.151262</td>\n",
       "      <td>3.145670</td>\n",
       "      <td>25150.389503</td>\n",
       "      <td>0.0</td>\n",
       "    </tr>\n",
       "  </tbody>\n",
       "</table>\n",
       "</div>"
      ],
      "text/plain": [
       "                                Date         Open         High          Low  \\\n",
       "count                           3019  3019.000000  3019.000000  3019.000000   \n",
       "mean   2011-05-22 04:46:11.248757760    18.476098    18.557208    18.380602   \n",
       "min              2005-02-25 00:00:00     9.088600     9.328900     9.088600   \n",
       "25%              2008-03-31 12:00:00    16.273000    16.339500    16.221000   \n",
       "50%              2011-04-05 00:00:00    18.493000    18.538000    18.388000   \n",
       "75%              2014-07-19 12:00:00    21.070000    21.152000    20.976000   \n",
       "max              2017-11-10 00:00:00    25.862000    26.258000    25.540000   \n",
       "std                              NaN     3.158648     3.154493     3.151262   \n",
       "\n",
       "             Close         Volume  OpenInt  \n",
       "count  3019.000000    3019.000000   3019.0  \n",
       "mean     18.473807    9176.942696      0.0  \n",
       "min       9.165800       0.000000      0.0  \n",
       "25%      16.269000    1432.000000      0.0  \n",
       "50%      18.457000    3623.000000      0.0  \n",
       "75%      21.073000    9110.500000      0.0  \n",
       "max      26.258000  631112.000000      0.0  \n",
       "std       3.145670   25150.389503      0.0  "
      ]
     },
     "execution_count": 10,
     "metadata": {},
     "output_type": "execute_result"
    }
   ],
   "source": [
    "data.describe()"
   ]
  },
  {
   "cell_type": "markdown",
   "id": "9ef00d67-93a1-4065-afb1-2752a2280b2f",
   "metadata": {},
   "source": [
    "From here we can find out the starting date and the ending date of the dataset as well as the Minimum and Max closing price"
   ]
  },
  {
   "cell_type": "code",
   "execution_count": 11,
   "id": "29b0d7a4-0163-448a-930a-2f68c4731259",
   "metadata": {},
   "outputs": [
    {
     "data": {
      "text/html": [
       "<div>\n",
       "<style scoped>\n",
       "    .dataframe tbody tr th:only-of-type {\n",
       "        vertical-align: middle;\n",
       "    }\n",
       "\n",
       "    .dataframe tbody tr th {\n",
       "        vertical-align: top;\n",
       "    }\n",
       "\n",
       "    .dataframe thead th {\n",
       "        text-align: right;\n",
       "    }\n",
       "</style>\n",
       "<table border=\"1\" class=\"dataframe\">\n",
       "  <thead>\n",
       "    <tr style=\"text-align: right;\">\n",
       "      <th></th>\n",
       "      <th>Date</th>\n",
       "      <th>Open</th>\n",
       "      <th>High</th>\n",
       "      <th>Low</th>\n",
       "      <th>Close</th>\n",
       "      <th>Volume</th>\n",
       "      <th>OpenInt</th>\n",
       "    </tr>\n",
       "  </thead>\n",
       "  <tbody>\n",
       "    <tr>\n",
       "      <th>Date</th>\n",
       "      <td>1.000000</td>\n",
       "      <td>0.127677</td>\n",
       "      <td>0.119795</td>\n",
       "      <td>0.140101</td>\n",
       "      <td>0.130866</td>\n",
       "      <td>-0.217366</td>\n",
       "      <td>NaN</td>\n",
       "    </tr>\n",
       "    <tr>\n",
       "      <th>Open</th>\n",
       "      <td>0.127677</td>\n",
       "      <td>1.000000</td>\n",
       "      <td>0.998764</td>\n",
       "      <td>0.998535</td>\n",
       "      <td>0.998145</td>\n",
       "      <td>0.137158</td>\n",
       "      <td>NaN</td>\n",
       "    </tr>\n",
       "    <tr>\n",
       "      <th>High</th>\n",
       "      <td>0.119795</td>\n",
       "      <td>0.998764</td>\n",
       "      <td>1.000000</td>\n",
       "      <td>0.997520</td>\n",
       "      <td>0.998791</td>\n",
       "      <td>0.147309</td>\n",
       "      <td>NaN</td>\n",
       "    </tr>\n",
       "    <tr>\n",
       "      <th>Low</th>\n",
       "      <td>0.140101</td>\n",
       "      <td>0.998535</td>\n",
       "      <td>0.997520</td>\n",
       "      <td>1.000000</td>\n",
       "      <td>0.998718</td>\n",
       "      <td>0.129437</td>\n",
       "      <td>NaN</td>\n",
       "    </tr>\n",
       "    <tr>\n",
       "      <th>Close</th>\n",
       "      <td>0.130866</td>\n",
       "      <td>0.998145</td>\n",
       "      <td>0.998791</td>\n",
       "      <td>0.998718</td>\n",
       "      <td>1.000000</td>\n",
       "      <td>0.138999</td>\n",
       "      <td>NaN</td>\n",
       "    </tr>\n",
       "    <tr>\n",
       "      <th>Volume</th>\n",
       "      <td>-0.217366</td>\n",
       "      <td>0.137158</td>\n",
       "      <td>0.147309</td>\n",
       "      <td>0.129437</td>\n",
       "      <td>0.138999</td>\n",
       "      <td>1.000000</td>\n",
       "      <td>NaN</td>\n",
       "    </tr>\n",
       "    <tr>\n",
       "      <th>OpenInt</th>\n",
       "      <td>NaN</td>\n",
       "      <td>NaN</td>\n",
       "      <td>NaN</td>\n",
       "      <td>NaN</td>\n",
       "      <td>NaN</td>\n",
       "      <td>NaN</td>\n",
       "      <td>NaN</td>\n",
       "    </tr>\n",
       "  </tbody>\n",
       "</table>\n",
       "</div>"
      ],
      "text/plain": [
       "             Date      Open      High       Low     Close    Volume  OpenInt\n",
       "Date     1.000000  0.127677  0.119795  0.140101  0.130866 -0.217366      NaN\n",
       "Open     0.127677  1.000000  0.998764  0.998535  0.998145  0.137158      NaN\n",
       "High     0.119795  0.998764  1.000000  0.997520  0.998791  0.147309      NaN\n",
       "Low      0.140101  0.998535  0.997520  1.000000  0.998718  0.129437      NaN\n",
       "Close    0.130866  0.998145  0.998791  0.998718  1.000000  0.138999      NaN\n",
       "Volume  -0.217366  0.137158  0.147309  0.129437  0.138999  1.000000      NaN\n",
       "OpenInt       NaN       NaN       NaN       NaN       NaN       NaN      NaN"
      ]
     },
     "execution_count": 11,
     "metadata": {},
     "output_type": "execute_result"
    }
   ],
   "source": [
    "data.corr()"
   ]
  },
  {
   "cell_type": "markdown",
   "id": "8fd7ce4d-1760-4cdd-a976-80508e98a9d2",
   "metadata": {},
   "source": [
    "## 📌 Why is Volume not strongly correlated with Open, High, Low, Close?\n",
    "\n",
    "Because **Volume measures how many shares were traded, not their price**.\n",
    "\n",
    "👉 **Price** (Open, High, Low, Close) moves based on buying/selling pressure, but the **number of shares traded** (Volume) doesn't have a simple linear relationship to the **price level**.\n",
    "\n",
    "- Prices can **rise on low volume**.\n",
    "- Prices can **fall on high volume**.\n",
    "- Sometimes **no price change**, but **very high volume**.\n",
    "\n",
    "🔵 **Volume measures activity**,  \n",
    "🔴 **Price measures value**.\n",
    "\n",
    "That's why **correlation is weak** between **Volume** and **price features**.\n"
   ]
  },
  {
   "cell_type": "code",
   "execution_count": 12,
   "id": "f14b1be6-0b20-4b88-8d3e-65f13e97a1dd",
   "metadata": {},
   "outputs": [
    {
     "data": {
      "image/png": "[encoded data removed]",
      "text/plain": [
       "<Figure size 1200x600 with 1 Axes>"
      ]
     },
     "metadata": {},
     "output_type": "display_data"
    }
   ],
   "source": [
    "# Line plot: Close Price\n",
    "plt.figure(figsize=(12,6))\n",
    "plt.plot(data[\"Date\"],data['Close'])\n",
    "plt.title('Close Price over Time')\n",
    "plt.xlabel('Date')\n",
    "plt.ylabel('Close Price')\n",
    "plt.show()"
   ]
  },
  {
   "cell_type": "code",
   "execution_count": 13,
   "id": "1b93ea6e-b982-4369-b535-37446bfcc75b",
   "metadata": {},
   "outputs": [
    {
     "data": {
      "image/png": "[encoded data removed]",
      "text/plain": [
       "<Figure size 1200x600 with 1 Axes>"
      ]
     },
     "metadata": {},
     "output_type": "display_data"
    }
   ],
   "source": [
    "# Volume bar chart\n",
    "plt.figure(figsize=(12,6))\n",
    "plt.bar(data[\"Date\"], data['Volume'], color='green')\n",
    "plt.title('Volume over Time')\n",
    "plt.show()"
   ]
  },
  {
   "cell_type": "code",
   "execution_count": 14,
   "id": "839760c2-2875-4e90-bee7-dd4bf5d7338b",
   "metadata": {},
   "outputs": [
    {
     "data": {
      "image/png": "[encoded data removed]",
      "text/plain": [
       "<Figure size 800x600 with 2 Axes>"
      ]
     },
     "metadata": {},
     "output_type": "display_data"
    }
   ],
   "source": [
    "# Correlation heatmap\n",
    "plt.figure(figsize=(8,6))\n",
    "sns.heatmap(data.corr(), annot=True, cmap='coolwarm')\n",
    "plt.title('Feature Correlation')\n",
    "plt.show()\n"
   ]
  },
  {
   "cell_type": "code",
   "execution_count": null,
   "id": "c55f6bb3-be85-4f69-b172-f39a4ff1020f",
   "metadata": {},
   "outputs": [],
   "source": []
  },
  {
   "cell_type": "code",
   "execution_count": 15,
   "id": "86a73e2d-a4ca-4d3a-80a3-1539014cfa4b",
   "metadata": {},
   "outputs": [],
   "source": [
    "#Filtering the dataset for a particular year"
   ]
  },
  {
   "cell_type": "code",
   "execution_count": 16,
   "id": "033ee55f-a9ba-4bb4-bce5-7508f35600f5",
   "metadata": {},
   "outputs": [],
   "source": [
    "y2008=data[data[\"Date\"].dt.year==2008].sort_values(by=[\"Date\"])"
   ]
  },
  {
   "cell_type": "code",
   "execution_count": 17,
   "id": "2e965b89-2f4d-4e5a-87a2-58d6ee49a4f9",
   "metadata": {},
   "outputs": [
    {
     "data": {
      "text/html": [
       "<div>\n",
       "<style scoped>\n",
       "    .dataframe tbody tr th:only-of-type {\n",
       "        vertical-align: middle;\n",
       "    }\n",
       "\n",
       "    .dataframe tbody tr th {\n",
       "        vertical-align: top;\n",
       "    }\n",
       "\n",
       "    .dataframe thead th {\n",
       "        text-align: right;\n",
       "    }\n",
       "</style>\n",
       "<table border=\"1\" class=\"dataframe\">\n",
       "  <thead>\n",
       "    <tr style=\"text-align: right;\">\n",
       "      <th></th>\n",
       "      <th>Date</th>\n",
       "      <th>Open</th>\n",
       "      <th>High</th>\n",
       "      <th>Low</th>\n",
       "      <th>Close</th>\n",
       "      <th>Volume</th>\n",
       "      <th>OpenInt</th>\n",
       "    </tr>\n",
       "  </thead>\n",
       "  <tbody>\n",
       "    <tr>\n",
       "      <th>694</th>\n",
       "      <td>2008-01-02</td>\n",
       "      <td>24.353</td>\n",
       "      <td>24.713</td>\n",
       "      <td>24.313</td>\n",
       "      <td>24.376</td>\n",
       "      <td>148385</td>\n",
       "      <td>0</td>\n",
       "    </tr>\n",
       "    <tr>\n",
       "      <th>695</th>\n",
       "      <td>2008-01-03</td>\n",
       "      <td>24.528</td>\n",
       "      <td>24.575</td>\n",
       "      <td>24.468</td>\n",
       "      <td>24.521</td>\n",
       "      <td>10031</td>\n",
       "      <td>0</td>\n",
       "    </tr>\n",
       "    <tr>\n",
       "      <th>696</th>\n",
       "      <td>2008-01-04</td>\n",
       "      <td>24.468</td>\n",
       "      <td>24.468</td>\n",
       "      <td>23.965</td>\n",
       "      <td>23.972</td>\n",
       "      <td>11386</td>\n",
       "      <td>0</td>\n",
       "    </tr>\n",
       "    <tr>\n",
       "      <th>697</th>\n",
       "      <td>2008-01-07</td>\n",
       "      <td>24.105</td>\n",
       "      <td>24.222</td>\n",
       "      <td>23.943</td>\n",
       "      <td>24.113</td>\n",
       "      <td>16714</td>\n",
       "      <td>0</td>\n",
       "    </tr>\n",
       "    <tr>\n",
       "      <th>698</th>\n",
       "      <td>2008-01-08</td>\n",
       "      <td>24.391</td>\n",
       "      <td>24.413</td>\n",
       "      <td>23.503</td>\n",
       "      <td>23.503</td>\n",
       "      <td>29299</td>\n",
       "      <td>0</td>\n",
       "    </tr>\n",
       "    <tr>\n",
       "      <th>...</th>\n",
       "      <td>...</td>\n",
       "      <td>...</td>\n",
       "      <td>...</td>\n",
       "      <td>...</td>\n",
       "      <td>...</td>\n",
       "      <td>...</td>\n",
       "      <td>...</td>\n",
       "    </tr>\n",
       "    <tr>\n",
       "      <th>941</th>\n",
       "      <td>2008-12-24</td>\n",
       "      <td>12.471</td>\n",
       "      <td>12.471</td>\n",
       "      <td>12.402</td>\n",
       "      <td>12.419</td>\n",
       "      <td>7955</td>\n",
       "      <td>0</td>\n",
       "    </tr>\n",
       "    <tr>\n",
       "      <th>942</th>\n",
       "      <td>2008-12-26</td>\n",
       "      <td>12.480</td>\n",
       "      <td>12.565</td>\n",
       "      <td>12.471</td>\n",
       "      <td>12.565</td>\n",
       "      <td>5180</td>\n",
       "      <td>0</td>\n",
       "    </tr>\n",
       "    <tr>\n",
       "      <th>943</th>\n",
       "      <td>2008-12-29</td>\n",
       "      <td>12.349</td>\n",
       "      <td>12.874</td>\n",
       "      <td>12.349</td>\n",
       "      <td>12.626</td>\n",
       "      <td>47404</td>\n",
       "      <td>0</td>\n",
       "    </tr>\n",
       "    <tr>\n",
       "      <th>944</th>\n",
       "      <td>2008-12-30</td>\n",
       "      <td>12.759</td>\n",
       "      <td>12.874</td>\n",
       "      <td>12.759</td>\n",
       "      <td>12.865</td>\n",
       "      <td>10067</td>\n",
       "      <td>0</td>\n",
       "    </tr>\n",
       "    <tr>\n",
       "      <th>945</th>\n",
       "      <td>2008-12-31</td>\n",
       "      <td>12.973</td>\n",
       "      <td>13.072</td>\n",
       "      <td>12.973</td>\n",
       "      <td>13.072</td>\n",
       "      <td>12496</td>\n",
       "      <td>0</td>\n",
       "    </tr>\n",
       "  </tbody>\n",
       "</table>\n",
       "<p>252 rows × 7 columns</p>\n",
       "</div>"
      ],
      "text/plain": [
       "          Date    Open    High     Low   Close  Volume  OpenInt\n",
       "694 2008-01-02  24.353  24.713  24.313  24.376  148385        0\n",
       "695 2008-01-03  24.528  24.575  24.468  24.521   10031        0\n",
       "696 2008-01-04  24.468  24.468  23.965  23.972   11386        0\n",
       "697 2008-01-07  24.105  24.222  23.943  24.113   16714        0\n",
       "698 2008-01-08  24.391  24.413  23.503  23.503   29299        0\n",
       "..         ...     ...     ...     ...     ...     ...      ...\n",
       "941 2008-12-24  12.471  12.471  12.402  12.419    7955        0\n",
       "942 2008-12-26  12.480  12.565  12.471  12.565    5180        0\n",
       "943 2008-12-29  12.349  12.874  12.349  12.626   47404        0\n",
       "944 2008-12-30  12.759  12.874  12.759  12.865   10067        0\n",
       "945 2008-12-31  12.973  13.072  12.973  13.072   12496        0\n",
       "\n",
       "[252 rows x 7 columns]"
      ]
     },
     "execution_count": 17,
     "metadata": {},
     "output_type": "execute_result"
    }
   ],
   "source": [
    "y2008"
   ]
  },
  {
   "cell_type": "code",
   "execution_count": 18,
   "id": "df8cc7c6-291c-43f2-83ad-0de9dde4eae5",
   "metadata": {},
   "outputs": [],
   "source": [
    "#Sampling 10 rows for comparing prices in a grouped bar chart\n",
    "rand_dates=data.sample(10)"
   ]
  },
  {
   "cell_type": "code",
   "execution_count": 19,
   "id": "da118942-07d9-402e-8acb-dfffd8c4c126",
   "metadata": {},
   "outputs": [
    {
     "data": {
      "image/png": "[encoded data removed]",
      "text/plain": [
       "<Figure size 640x480 with 1 Axes>"
      ]
     },
     "metadata": {},
     "output_type": "display_data"
    }
   ],
   "source": [
    "bar_width = 0.35\n",
    "\n",
    "# Set position of bar on X axis\n",
    "r1 = np.arange(len(rand_dates['Date'][:10]))          # First group\n",
    "r2 = [x + bar_width for x in r1]          # Second group shifted\n",
    "\n",
    "# Create grouped bar plot\n",
    "plt.bar(r1, rand_dates['Open'][:10], width=bar_width, label='Open', color='skyblue')\n",
    "plt.bar(r2, rand_dates['Close'][:10], width=bar_width, label='Close', color='salmon')\n",
    "\n",
    "# Add labels\n",
    "plt.xlabel('Year')\n",
    "plt.ylabel('Price')\n",
    "plt.title('Open vs Close Prices on Random 10 DAYS')\n",
    "plt.legend()\n",
    "\n",
    "plt.tight_layout()\n",
    "plt.show()"
   ]
  },
  {
   "cell_type": "code",
   "execution_count": 20,
   "id": "ef883bc5-4bf0-4969-80ea-114be5cc7f7e",
   "metadata": {},
   "outputs": [
    {
     "data": {
      "image/png": "[encoded data removed]",
      "text/plain": [
       "<Figure size 640x480 with 1 Axes>"
      ]
     },
     "metadata": {},
     "output_type": "display_data"
    }
   ],
   "source": [
    "bar_width = 0.35\n",
    "\n",
    "# Set position of bar on X axis\n",
    "r1 = np.arange(len(rand_dates['Date'][:10]))          # First group\n",
    "r2 = [x + bar_width for x in r1]          # Second group shifted\n",
    "\n",
    "# Create grouped bar plot\n",
    "plt.bar(r1, rand_dates['Low'][:10], width=bar_width, label='Open', color='orange')\n",
    "plt.bar(r2, rand_dates['High'][:10], width=bar_width, label='Close', color='yellow')\n",
    "\n",
    "# Add labels\n",
    "plt.xlabel('Year')\n",
    "plt.ylabel('Price')\n",
    "plt.title('Open vs Close Prices On Random 10 DAYS')\n",
    "\n",
    "plt.legend()\n",
    "\n",
    "plt.tight_layout()\n",
    "plt.show()"
   ]
  },
  {
   "cell_type": "code",
   "execution_count": 21,
   "id": "8c2b11b6-4c6c-4375-8b77-1ad3c117d653",
   "metadata": {},
   "outputs": [],
   "source": [
    "#Sorting the dataframe by Date for accurate Time series predictions\n",
    "data.sort_values(by=[\"Date\"],inplace=True)"
   ]
  },
  {
   "cell_type": "code",
   "execution_count": 22,
   "id": "b461ef8b-99a5-4cf6-a082-8f37049dc2f0",
   "metadata": {},
   "outputs": [
    {
     "data": {
      "text/plain": [
       "Index(['Date', 'Open', 'High', 'Low', 'Close', 'Volume', 'OpenInt'], dtype='object')"
      ]
     },
     "execution_count": 22,
     "metadata": {},
     "output_type": "execute_result"
    }
   ],
   "source": [
    "data.columns"
   ]
  },
  {
   "cell_type": "markdown",
   "id": "97c1864a-7b33-4aef-8578-3a52e9520a76",
   "metadata": {},
   "source": [
    "### Extracting features and target columns (X&Y)"
   ]
  },
  {
   "cell_type": "code",
   "execution_count": 23,
   "id": "737610a7-4c32-4cf2-973d-5598916036f9",
   "metadata": {},
   "outputs": [],
   "source": [
    "X=data[[\"Open\",\"High\",\"Low\",\"Volume\"]]"
   ]
  },
  {
   "cell_type": "code",
   "execution_count": 24,
   "id": "94a5211d-3bb5-4016-b8b3-8e4d94b37555",
   "metadata": {},
   "outputs": [],
   "source": [
    "y=data[\"Close\"]"
   ]
  },
  {
   "cell_type": "code",
   "execution_count": 25,
   "id": "e7d433aa-8094-4fcc-a863-ed51c1d46947",
   "metadata": {},
   "outputs": [],
   "source": [
    "from sklearn.model_selection import KFold\n",
    "from sklearn.linear_model import LinearRegression\n",
    "from sklearn.metrics import r2_score,mean_squared_error\n",
    "\n"
   ]
  },
  {
   "cell_type": "markdown",
   "id": "6a9be42d-a362-4770-8a7c-261482f84c86",
   "metadata": {},
   "source": [
    "### Set up K-Fold cross validations for large datasets to reduce variance"
   ]
  },
  {
   "cell_type": "code",
   "execution_count": 26,
   "id": "abc575df-d4c2-4ab2-b9c7-10110bfa68e2",
   "metadata": {},
   "outputs": [
    {
     "name": "stdout",
     "output_type": "stream",
     "text": [
      "Average R²: 0.9987653848364448\n",
      "Average Mean Squared Error: 0.012045990922297134\n"
     ]
    }
   ],
   "source": [
    "model=LinearRegression()\n",
    "kf = KFold(n_splits=5, shuffle=True, random_state=42)\n",
    "\n",
    "r2_scores = []\n",
    "mean_error=[]\n",
    "\n",
    "for train_index, val_index in kf.split(X):\n",
    "    # 👇 use .iloc to select by row positions\n",
    "    X_train, X_val = X.iloc[train_index], X.iloc[val_index]\n",
    "    y_train, y_val = y.iloc[train_index], y.iloc[val_index]\n",
    "    \n",
    "    model.fit(X_train, y_train)\n",
    "    y_pred = model.predict(X_val)\n",
    "    \n",
    "    r2 = r2_score(y_val, y_pred)\n",
    "    me=mean_squared_error(y_val,y_pred)\n",
    "    r2_scores.append(r2)\n",
    "    mean_error.append(me)\n",
    "\n",
    "print(\"Average R²:\", np.mean(r2_scores))\n",
    "print(\"Average Mean Squared Error:\", np.mean(mean_error))"
   ]
  },
  {
   "cell_type": "code",
   "execution_count": 27,
   "id": "65759763-2c14-40dd-8d7f-271fbf864321",
   "metadata": {},
   "outputs": [],
   "source": [
    "from sklearn.model_selection import train_test_split"
   ]
  },
  {
   "cell_type": "markdown",
   "id": "b699ba25-e14e-4214-beb7-2902d0c47399",
   "metadata": {},
   "source": [
    "### Splitting the dataset for training and validation sets"
   ]
  },
  {
   "cell_type": "code",
   "execution_count": 28,
   "id": "dbd829af-940d-4403-95f9-8d1d3314a431",
   "metadata": {},
   "outputs": [],
   "source": [
    "X_train,X_test,y_train,y_test=train_test_split(X,y,test_size=0.2,random_state=10)"
   ]
  },
  {
   "cell_type": "code",
   "execution_count": 29,
   "id": "61d543e0-e8a8-416a-90f7-fb69ca956dfa",
   "metadata": {},
   "outputs": [
    {
     "data": {
      "text/plain": [
       "(2415, 4)"
      ]
     },
     "execution_count": 29,
     "metadata": {},
     "output_type": "execute_result"
    }
   ],
   "source": [
    "X_train.shape"
   ]
  },
  {
   "cell_type": "code",
   "execution_count": 30,
   "id": "1f995b3d-9ef6-4363-b94d-b31c2917b5c3",
   "metadata": {},
   "outputs": [
    {
     "data": {
      "text/plain": [
       "(2415,)"
      ]
     },
     "execution_count": 30,
     "metadata": {},
     "output_type": "execute_result"
    }
   ],
   "source": [
    "y_train.shape\n"
   ]
  },
  {
   "cell_type": "code",
   "execution_count": 31,
   "id": "b997e522-d44f-473a-9f34-ba9d7a5530af",
   "metadata": {},
   "outputs": [
    {
     "data": {
      "text/plain": [
       "(604, 4)"
      ]
     },
     "execution_count": 31,
     "metadata": {},
     "output_type": "execute_result"
    }
   ],
   "source": [
    "X_test.shape"
   ]
  },
  {
   "cell_type": "markdown",
   "id": "bdc1da6c-e99a-46df-8aa8-0ec0d18703a6",
   "metadata": {},
   "source": [
    "### Standardising(Scaling) the dataset to increase convergence and yield greater accuracies"
   ]
  },
  {
   "cell_type": "code",
   "execution_count": 32,
   "id": "3c48085f-dd70-4623-9030-72bafb95e061",
   "metadata": {},
   "outputs": [],
   "source": [
    "from sklearn.preprocessing import StandardScaler"
   ]
  },
  {
   "cell_type": "code",
   "execution_count": 33,
   "id": "e358dbc6-6a1e-4ebe-90c1-95b4c0fdcfaf",
   "metadata": {},
   "outputs": [],
   "source": [
    "scaler=StandardScaler()\n"
   ]
  },
  {
   "cell_type": "code",
   "execution_count": 34,
   "id": "d19bca72-6ef3-44b6-9187-9d0ad3050da8",
   "metadata": {},
   "outputs": [],
   "source": [
    "X_train_scaled=scaler.fit_transform(X_train)"
   ]
  },
  {
   "cell_type": "markdown",
   "id": "66d1044e-00f0-4c4b-9a46-5a1696977b01",
   "metadata": {},
   "source": [
    "### Training and Testing the model"
   ]
  },
  {
   "cell_type": "code",
   "execution_count": 35,
   "id": "9f66742e-2edf-49f1-94bb-76c524620e12",
   "metadata": {},
   "outputs": [],
   "source": [
    "from sklearn.linear_model import LinearRegression"
   ]
  },
  {
   "cell_type": "code",
   "execution_count": 36,
   "id": "efc17cec-163b-4581-9393-1318f961e324",
   "metadata": {},
   "outputs": [],
   "source": [
    "model=LinearRegression()"
   ]
  },
  {
   "cell_type": "code",
   "execution_count": 37,
   "id": "b64bbf76-0c9b-4f1a-b374-4042de1e36be",
   "metadata": {},
   "outputs": [
    {
     "data": {
      "text/html": [
       "<style>#sk-container-id-1 {\n",
       "  /* Definition of color scheme common for light and dark mode */\n",
       "  --sklearn-color-text: black;\n",
       "  --sklearn-color-line: gray;\n",
       "  /* Definition of color scheme for unfitted estimators */\n",
       "  --sklearn-color-unfitted-level-0: #fff5e6;\n",
       "  --sklearn-color-unfitted-level-1: #f6e4d2;\n",
       "  --sklearn-color-unfitted-level-2: #ffe0b3;\n",
       "  --sklearn-color-unfitted-level-3: chocolate;\n",
       "  /* Definition of color scheme for fitted estimators */\n",
       "  --sklearn-color-fitted-level-0: #f0f8ff;\n",
       "  --sklearn-color-fitted-level-1: #d4ebff;\n",
       "  --sklearn-color-fitted-level-2: #b3dbfd;\n",
       "  --sklearn-color-fitted-level-3: cornflowerblue;\n",
       "\n",
       "  /* Specific color for light theme */\n",
       "  --sklearn-color-text-on-default-background: var(--sg-text-color, var(--theme-code-foreground, var(--jp-content-font-color1, black)));\n",
       "  --sklearn-color-background: var(--sg-background-color, var(--theme-background, var(--jp-layout-color0, white)));\n",
       "  --sklearn-color-border-box: var(--sg-text-color, var(--theme-code-foreground, var(--jp-content-font-color1, black)));\n",
       "  --sklearn-color-icon: #696969;\n",
       "\n",
       "  @media (prefers-color-scheme: dark) {\n",
       "    /* Redefinition of color scheme for dark theme */\n",
       "    --sklearn-color-text-on-default-background: var(--sg-text-color, var(--theme-code-foreground, var(--jp-content-font-color1, white)));\n",
       "    --sklearn-color-background: var(--sg-background-color, var(--theme-background, var(--jp-layout-color0, #111)));\n",
       "    --sklearn-color-border-box: var(--sg-text-color, var(--theme-code-foreground, var(--jp-content-font-color1, white)));\n",
       "    --sklearn-color-icon: #878787;\n",
       "  }\n",
       "}\n",
       "\n",
       "#sk-container-id-1 {\n",
       "  color: var(--sklearn-color-text);\n",
       "}\n",
       "\n",
       "#sk-container-id-1 pre {\n",
       "  padding: 0;\n",
       "}\n",
       "\n",
       "#sk-container-id-1 input.sk-hidden--visually {\n",
       "  border: 0;\n",
       "  clip: rect(1px 1px 1px 1px);\n",
       "  clip: rect(1px, 1px, 1px, 1px);\n",
       "  height: 1px;\n",
       "  margin: -1px;\n",
       "  overflow: hidden;\n",
       "  padding: 0;\n",
       "  position: absolute;\n",
       "  width: 1px;\n",
       "}\n",
       "\n",
       "#sk-container-id-1 div.sk-dashed-wrapped {\n",
       "  border: 1px dashed var(--sklearn-color-line);\n",
       "  margin: 0 0.4em 0.5em 0.4em;\n",
       "  box-sizing: border-box;\n",
       "  padding-bottom: 0.4em;\n",
       "  background-color: var(--sklearn-color-background);\n",
       "}\n",
       "\n",
       "#sk-container-id-1 div.sk-container {\n",
       "  /* jupyter's `normalize.less` sets `[hidden] { display: none; }`\n",
       "     but bootstrap.min.css set `[hidden] { display: none !important; }`\n",
       "     so we also need the `!important` here to be able to override the\n",
       "     default hidden behavior on the sphinx rendered scikit-learn.org.\n",
       "     See: https://github.com/scikit-learn/scikit-learn/issues/21755 */\n",
       "  display: inline-block !important;\n",
       "  position: relative;\n",
       "}\n",
       "\n",
       "#sk-container-id-1 div.sk-text-repr-fallback {\n",
       "  display: none;\n",
       "}\n",
       "\n",
       "div.sk-parallel-item,\n",
       "div.sk-serial,\n",
       "div.sk-item {\n",
       "  /* draw centered vertical line to link estimators */\n",
       "  background-image: linear-gradient(var(--sklearn-color-text-on-default-background), var(--sklearn-color-text-on-default-background));\n",
       "  background-size: 2px 100%;\n",
       "  background-repeat: no-repeat;\n",
       "  background-position: center center;\n",
       "}\n",
       "\n",
       "/* Parallel-specific style estimator block */\n",
       "\n",
       "#sk-container-id-1 div.sk-parallel-item::after {\n",
       "  content: \"\";\n",
       "  width: 100%;\n",
       "  border-bottom: 2px solid var(--sklearn-color-text-on-default-background);\n",
       "  flex-grow: 1;\n",
       "}\n",
       "\n",
       "#sk-container-id-1 div.sk-parallel {\n",
       "  display: flex;\n",
       "  align-items: stretch;\n",
       "  justify-content: center;\n",
       "  background-color: var(--sklearn-color-background);\n",
       "  position: relative;\n",
       "}\n",
       "\n",
       "#sk-container-id-1 div.sk-parallel-item {\n",
       "  display: flex;\n",
       "  flex-direction: column;\n",
       "}\n",
       "\n",
       "#sk-container-id-1 div.sk-parallel-item:first-child::after {\n",
       "  align-self: flex-end;\n",
       "  width: 50%;\n",
       "}\n",
       "\n",
       "#sk-container-id-1 div.sk-parallel-item:last-child::after {\n",
       "  align-self: flex-start;\n",
       "  width: 50%;\n",
       "}\n",
       "\n",
       "#sk-container-id-1 div.sk-parallel-item:only-child::after {\n",
       "  width: 0;\n",
       "}\n",
       "\n",
       "/* Serial-specific style estimator block */\n",
       "\n",
       "#sk-container-id-1 div.sk-serial {\n",
       "  display: flex;\n",
       "  flex-direction: column;\n",
       "  align-items: center;\n",
       "  background-color: var(--sklearn-color-background);\n",
       "  padding-right: 1em;\n",
       "  padding-left: 1em;\n",
       "}\n",
       "\n",
       "\n",
       "/* Toggleable style: style used for estimator/Pipeline/ColumnTransformer box that is\n",
       "clickable and can be expanded/collapsed.\n",
       "- Pipeline and ColumnTransformer use this feature and define the default style\n",
       "- Estimators will overwrite some part of the style using the `sk-estimator` class\n",
       "*/\n",
       "\n",
       "/* Pipeline and ColumnTransformer style (default) */\n",
       "\n",
       "#sk-container-id-1 div.sk-toggleable {\n",
       "  /* Default theme specific background. It is overwritten whether we have a\n",
       "  specific estimator or a Pipeline/ColumnTransformer */\n",
       "  background-color: var(--sklearn-color-background);\n",
       "}\n",
       "\n",
       "/* Toggleable label */\n",
       "#sk-container-id-1 label.sk-toggleable__label {\n",
       "  cursor: pointer;\n",
       "  display: block;\n",
       "  width: 100%;\n",
       "  margin-bottom: 0;\n",
       "  padding: 0.5em;\n",
       "  box-sizing: border-box;\n",
       "  text-align: center;\n",
       "}\n",
       "\n",
       "#sk-container-id-1 label.sk-toggleable__label-arrow:before {\n",
       "  /* Arrow on the left of the label */\n",
       "  content: \"▸\";\n",
       "  float: left;\n",
       "  margin-right: 0.25em;\n",
       "  color: var(--sklearn-color-icon);\n",
       "}\n",
       "\n",
       "#sk-container-id-1 label.sk-toggleable__label-arrow:hover:before {\n",
       "  color: var(--sklearn-color-text);\n",
       "}\n",
       "\n",
       "/* Toggleable content - dropdown */\n",
       "\n",
       "#sk-container-id-1 div.sk-toggleable__content {\n",
       "  max-height: 0;\n",
       "  max-width: 0;\n",
       "  overflow: hidden;\n",
       "  text-align: left;\n",
       "  /* unfitted */\n",
       "  background-color: var(--sklearn-color-unfitted-level-0);\n",
       "}\n",
       "\n",
       "#sk-container-id-1 div.sk-toggleable__content.fitted {\n",
       "  /* fitted */\n",
       "  background-color: var(--sklearn-color-fitted-level-0);\n",
       "}\n",
       "\n",
       "#sk-container-id-1 div.sk-toggleable__content pre {\n",
       "  margin: 0.2em;\n",
       "  border-radius: 0.25em;\n",
       "  color: var(--sklearn-color-text);\n",
       "  /* unfitted */\n",
       "  background-color: var(--sklearn-color-unfitted-level-0);\n",
       "}\n",
       "\n",
       "#sk-container-id-1 div.sk-toggleable__content.fitted pre {\n",
       "  /* unfitted */\n",
       "  background-color: var(--sklearn-color-fitted-level-0);\n",
       "}\n",
       "\n",
       "#sk-container-id-1 input.sk-toggleable__control:checked~div.sk-toggleable__content {\n",
       "  /* Expand drop-down */\n",
       "  max-height: 200px;\n",
       "  max-width: 100%;\n",
       "  overflow: auto;\n",
       "}\n",
       "\n",
       "#sk-container-id-1 input.sk-toggleable__control:checked~label.sk-toggleable__label-arrow:before {\n",
       "  content: \"▾\";\n",
       "}\n",
       "\n",
       "/* Pipeline/ColumnTransformer-specific style */\n",
       "\n",
       "#sk-container-id-1 div.sk-label input.sk-toggleable__control:checked~label.sk-toggleable__label {\n",
       "  color: var(--sklearn-color-text);\n",
       "  background-color: var(--sklearn-color-unfitted-level-2);\n",
       "}\n",
       "\n",
       "#sk-container-id-1 div.sk-label.fitted input.sk-toggleable__control:checked~label.sk-toggleable__label {\n",
       "  background-color: var(--sklearn-color-fitted-level-2);\n",
       "}\n",
       "\n",
       "/* Estimator-specific style */\n",
       "\n",
       "/* Colorize estimator box */\n",
       "#sk-container-id-1 div.sk-estimator input.sk-toggleable__control:checked~label.sk-toggleable__label {\n",
       "  /* unfitted */\n",
       "  background-color: var(--sklearn-color-unfitted-level-2);\n",
       "}\n",
       "\n",
       "#sk-container-id-1 div.sk-estimator.fitted input.sk-toggleable__control:checked~label.sk-toggleable__label {\n",
       "  /* fitted */\n",
       "  background-color: var(--sklearn-color-fitted-level-2);\n",
       "}\n",
       "\n",
       "#sk-container-id-1 div.sk-label label.sk-toggleable__label,\n",
       "#sk-container-id-1 div.sk-label label {\n",
       "  /* The background is the default theme color */\n",
       "  color: var(--sklearn-color-text-on-default-background);\n",
       "}\n",
       "\n",
       "/* On hover, darken the color of the background */\n",
       "#sk-container-id-1 div.sk-label:hover label.sk-toggleable__label {\n",
       "  color: var(--sklearn-color-text);\n",
       "  background-color: var(--sklearn-color-unfitted-level-2);\n",
       "}\n",
       "\n",
       "/* Label box, darken color on hover, fitted */\n",
       "#sk-container-id-1 div.sk-label.fitted:hover label.sk-toggleable__label.fitted {\n",
       "  color: var(--sklearn-color-text);\n",
       "  background-color: var(--sklearn-color-fitted-level-2);\n",
       "}\n",
       "\n",
       "/* Estimator label */\n",
       "\n",
       "#sk-container-id-1 div.sk-label label {\n",
       "  font-family: monospace;\n",
       "  font-weight: bold;\n",
       "  display: inline-block;\n",
       "  line-height: 1.2em;\n",
       "}\n",
       "\n",
       "#sk-container-id-1 div.sk-label-container {\n",
       "  text-align: center;\n",
       "}\n",
       "\n",
       "/* Estimator-specific */\n",
       "#sk-container-id-1 div.sk-estimator {\n",
       "  font-family: monospace;\n",
       "  border: 1px dotted var(--sklearn-color-border-box);\n",
       "  border-radius: 0.25em;\n",
       "  box-sizing: border-box;\n",
       "  margin-bottom: 0.5em;\n",
       "  /* unfitted */\n",
       "  background-color: var(--sklearn-color-unfitted-level-0);\n",
       "}\n",
       "\n",
       "#sk-container-id-1 div.sk-estimator.fitted {\n",
       "  /* fitted */\n",
       "  background-color: var(--sklearn-color-fitted-level-0);\n",
       "}\n",
       "\n",
       "/* on hover */\n",
       "#sk-container-id-1 div.sk-estimator:hover {\n",
       "  /* unfitted */\n",
       "  background-color: var(--sklearn-color-unfitted-level-2);\n",
       "}\n",
       "\n",
       "#sk-container-id-1 div.sk-estimator.fitted:hover {\n",
       "  /* fitted */\n",
       "  background-color: var(--sklearn-color-fitted-level-2);\n",
       "}\n",
       "\n",
       "/* Specification for estimator info (e.g. \"i\" and \"?\") */\n",
       "\n",
       "/* Common style for \"i\" and \"?\" */\n",
       "\n",
       ".sk-estimator-doc-link,\n",
       "a:link.sk-estimator-doc-link,\n",
       "a:visited.sk-estimator-doc-link {\n",
       "  float: right;\n",
       "  font-size: smaller;\n",
       "  line-height: 1em;\n",
       "  font-family: monospace;\n",
       "  background-color: var(--sklearn-color-background);\n",
       "  border-radius: 1em;\n",
       "  height: 1em;\n",
       "  width: 1em;\n",
       "  text-decoration: none !important;\n",
       "  margin-left: 1ex;\n",
       "  /* unfitted */\n",
       "  border: var(--sklearn-color-unfitted-level-1) 1pt solid;\n",
       "  color: var(--sklearn-color-unfitted-level-1);\n",
       "}\n",
       "\n",
       ".sk-estimator-doc-link.fitted,\n",
       "a:link.sk-estimator-doc-link.fitted,\n",
       "a:visited.sk-estimator-doc-link.fitted {\n",
       "  /* fitted */\n",
       "  border: var(--sklearn-color-fitted-level-1) 1pt solid;\n",
       "  color: var(--sklearn-color-fitted-level-1);\n",
       "}\n",
       "\n",
       "/* On hover */\n",
       "div.sk-estimator:hover .sk-estimator-doc-link:hover,\n",
       ".sk-estimator-doc-link:hover,\n",
       "div.sk-label-container:hover .sk-estimator-doc-link:hover,\n",
       ".sk-estimator-doc-link:hover {\n",
       "  /* unfitted */\n",
       "  background-color: var(--sklearn-color-unfitted-level-3);\n",
       "  color: var(--sklearn-color-background);\n",
       "  text-decoration: none;\n",
       "}\n",
       "\n",
       "div.sk-estimator.fitted:hover .sk-estimator-doc-link.fitted:hover,\n",
       ".sk-estimator-doc-link.fitted:hover,\n",
       "div.sk-label-container:hover .sk-estimator-doc-link.fitted:hover,\n",
       ".sk-estimator-doc-link.fitted:hover {\n",
       "  /* fitted */\n",
       "  background-color: var(--sklearn-color-fitted-level-3);\n",
       "  color: var(--sklearn-color-background);\n",
       "  text-decoration: none;\n",
       "}\n",
       "\n",
       "/* Span, style for the box shown on hovering the info icon */\n",
       ".sk-estimator-doc-link span {\n",
       "  display: none;\n",
       "  z-index: 9999;\n",
       "  position: relative;\n",
       "  font-weight: normal;\n",
       "  right: .2ex;\n",
       "  padding: .5ex;\n",
       "  margin: .5ex;\n",
       "  width: min-content;\n",
       "  min-width: 20ex;\n",
       "  max-width: 50ex;\n",
       "  color: var(--sklearn-color-text);\n",
       "  box-shadow: 2pt 2pt 4pt #999;\n",
       "  /* unfitted */\n",
       "  background: var(--sklearn-color-unfitted-level-0);\n",
       "  border: .5pt solid var(--sklearn-color-unfitted-level-3);\n",
       "}\n",
       "\n",
       ".sk-estimator-doc-link.fitted span {\n",
       "  /* fitted */\n",
       "  background: var(--sklearn-color-fitted-level-0);\n",
       "  border: var(--sklearn-color-fitted-level-3);\n",
       "}\n",
       "\n",
       ".sk-estimator-doc-link:hover span {\n",
       "  display: block;\n",
       "}\n",
       "\n",
       "/* \"?\"-specific style due to the `<a>` HTML tag */\n",
       "\n",
       "#sk-container-id-1 a.estimator_doc_link {\n",
       "  float: right;\n",
       "  font-size: 1rem;\n",
       "  line-height: 1em;\n",
       "  font-family: monospace;\n",
       "  background-color: var(--sklearn-color-background);\n",
       "  border-radius: 1rem;\n",
       "  height: 1rem;\n",
       "  width: 1rem;\n",
       "  text-decoration: none;\n",
       "  /* unfitted */\n",
       "  color: var(--sklearn-color-unfitted-level-1);\n",
       "  border: var(--sklearn-color-unfitted-level-1) 1pt solid;\n",
       "}\n",
       "\n",
       "#sk-container-id-1 a.estimator_doc_link.fitted {\n",
       "  /* fitted */\n",
       "  border: var(--sklearn-color-fitted-level-1) 1pt solid;\n",
       "  color: var(--sklearn-color-fitted-level-1);\n",
       "}\n",
       "\n",
       "/* On hover */\n",
       "#sk-container-id-1 a.estimator_doc_link:hover {\n",
       "  /* unfitted */\n",
       "  background-color: var(--sklearn-color-unfitted-level-3);\n",
       "  color: var(--sklearn-color-background);\n",
       "  text-decoration: none;\n",
       "}\n",
       "\n",
       "#sk-container-id-1 a.estimator_doc_link.fitted:hover {\n",
       "  /* fitted */\n",
       "  background-color: var(--sklearn-color-fitted-level-3);\n",
       "}\n",
       "</style><div id=\"sk-container-id-1\" class=\"sk-top-container\"><div class=\"sk-text-repr-fallback\"><pre>LinearRegression()</pre><b>In a Jupyter environment, please rerun this cell to show the HTML representation or trust the notebook. <br />On GitHub, the HTML representation is unable to render, please try loading this page with nbviewer.org.</b></div><div class=\"sk-container\" hidden><div class=\"sk-item\"><div class=\"sk-estimator fitted sk-toggleable\"><input class=\"sk-toggleable__control sk-hidden--visually\" id=\"sk-estimator-id-1\" type=\"checkbox\" checked><label for=\"sk-estimator-id-1\" class=\"sk-toggleable__label fitted sk-toggleable__label-arrow fitted\">&nbsp;&nbsp;LinearRegression<a class=\"sk-estimator-doc-link fitted\" rel=\"noreferrer\" target=\"_blank\" href=\"https://scikit-learn.org/1.4/modules/generated/sklearn.linear_model.LinearRegression.html\">?<span>Documentation for LinearRegression</span></a><span class=\"sk-estimator-doc-link fitted\">i<span>Fitted</span></span></label><div class=\"sk-toggleable__content fitted\"><pre>LinearRegression()</pre></div> </div></div></div></div>"
      ],
      "text/plain": [
       "LinearRegression()"
      ]
     },
     "execution_count": 37,
     "metadata": {},
     "output_type": "execute_result"
    }
   ],
   "source": [
    "model.fit(X_train_scaled,y_train)"
   ]
  },
  {
   "cell_type": "code",
   "execution_count": 49,
   "id": "624b4f0e",
   "metadata": {},
   "outputs": [
    {
     "name": "stdout",
     "output_type": "stream",
     "text": [
      "[-0.87340203  2.15357461  1.86902703 -0.00272267]\n"
     ]
    }
   ],
   "source": [
    "print(model.coef_)"
   ]
  },
  {
   "cell_type": "code",
   "execution_count": 50,
   "id": "0cc1a6fb",
   "metadata": {},
   "outputs": [
    {
     "name": "stdout",
     "output_type": "stream",
     "text": [
      "18.50643523809524\n"
     ]
    }
   ],
   "source": [
    "print(model.intercept_)"
   ]
  },
  {
   "cell_type": "code",
   "execution_count": null,
   "id": "cfb59a20",
   "metadata": {},
   "outputs": [],
   "source": []
  },
  {
   "cell_type": "code",
   "execution_count": 38,
   "id": "f807fc88-138b-46f7-8d65-5bd40c7068b1",
   "metadata": {},
   "outputs": [],
   "source": [
    "X_test_scaled=scaler.transform(X_test)"
   ]
  },
  {
   "cell_type": "code",
   "execution_count": 39,
   "id": "fd1402bf-2c0c-47c3-93c0-000b16fdd90b",
   "metadata": {},
   "outputs": [],
   "source": [
    "y_pred=model.predict(X_test_scaled)"
   ]
  },
  {
   "cell_type": "code",
   "execution_count": 40,
   "id": "d7956fb4-f4e9-4fcb-834e-cf78a1d15e91",
   "metadata": {},
   "outputs": [],
   "source": [
    "from sklearn.metrics import mean_squared_error,r2_score"
   ]
  },
  {
   "cell_type": "code",
   "execution_count": 41,
   "id": "13b5afe1-f699-435e-b5b3-145a3eadf5d7",
   "metadata": {},
   "outputs": [
    {
     "data": {
      "text/plain": [
       "0.011150462555717814"
      ]
     },
     "execution_count": 41,
     "metadata": {},
     "output_type": "execute_result"
    }
   ],
   "source": [
    "mean_squared_error(y_test,y_pred)"
   ]
  },
  {
   "cell_type": "code",
   "execution_count": 42,
   "id": "8f9d35bc-4fda-4574-9190-b1ad2fa5e013",
   "metadata": {},
   "outputs": [
    {
     "data": {
      "text/plain": [
       "0.998859492760668"
      ]
     },
     "execution_count": 42,
     "metadata": {},
     "output_type": "execute_result"
    }
   ],
   "source": [
    "r2_score(y_test,y_pred)"
   ]
  },
  {
   "cell_type": "code",
   "execution_count": 43,
   "id": "37a0d1a2-fdd3-4f4a-a824-882b25b6ae1a",
   "metadata": {},
   "outputs": [],
   "source": [
    "X_test[\"Date\"]=data.loc[list(X_test.index)][\"Date\"]"
   ]
  },
  {
   "cell_type": "code",
   "execution_count": null,
   "id": "4560097c",
   "metadata": {},
   "outputs": [],
   "source": []
  },
  {
   "cell_type": "code",
   "execution_count": 44,
   "id": "c87b3e88-8076-4c48-b3a4-deb57b1245f5",
   "metadata": {},
   "outputs": [
    {
     "data": {
      "image/png": "[encoded data removed]",
      "text/plain": [
       "<Figure size 1200x600 with 1 Axes>"
      ]
     },
     "metadata": {},
     "output_type": "display_data"
    }
   ],
   "source": [
    "# Line plot: Actual vs Predicted values\n",
    "plt.figure(figsize=(12,6))\n",
    "\n",
    "sns.scatterplot(x=X_test[\"Date\"],y=y_test,size=9,legend=False,color=\"red\")\n",
    "sns.lineplot(x=X_test[\"Date\"],y=y_pred,color=\"cyan\")\n",
    "\n",
    "plt.title(\"Actual vs Predicted Values\")\n",
    "plt.xlabel(\"Date\")\n",
    "plt.ylabel(\"Closing Price\")\n",
    "plt.show()"
   ]
  },
  {
   "cell_type": "markdown",
   "id": "7b0745a4-92d9-4499-961b-4d78c05bea4d",
   "metadata": {},
   "source": [
    "## Pickling the Model to build an interrface"
   ]
  },
  {
   "cell_type": "code",
   "execution_count": 45,
   "id": "2d5c974f-8a30-4da2-9c0d-be0a8dae5d34",
   "metadata": {},
   "outputs": [],
   "source": [
    "import pickle\n",
    "import os"
   ]
  },
  {
   "cell_type": "code",
   "execution_count": 46,
   "id": "63d6b9cc-3e65-4152-a09b-73d0617d7777",
   "metadata": {},
   "outputs": [],
   "source": [
    "#pickling the model\n",
    "path=r'../Models/LRModel.pkl'\n",
    "if not os.path.exists(path):\n",
    "    with open(path,'wb') as modelfile:\n",
    "        pickle.dump(model,modelfile)"
   ]
  },
  {
   "cell_type": "code",
   "execution_count": 47,
   "id": "ed901e61-273a-45e5-8f60-b0e203fa3675",
   "metadata": {},
   "outputs": [],
   "source": [
    "#pickling the scaler\n",
    "path=r'../Models/LRScaler.pkl'\n",
    "if not os.path.exists(path):\n",
    "    with open(path,'wb') as modelfile:\n",
    "        pickle.dump(scaler,modelfile)"
   ]
  }
 ],
 "metadata": {
  "kernelspec": {
   "display_name": "Python 3",
   "language": "python",
   "name": "python3"
  },
  "language_info": {
   "codemirror_mode": {
    "name": "ipython",
    "version": 3
   },
   "file_extension": ".py",
   "mimetype": "text/x-python",
   "name": "python",
   "nbconvert_exporter": "python",
   "pygments_lexer": "ipython3",
   "version": "3.11.6"
  }
 },
 "nbformat": 4,
 "nbformat_minor": 5
}
